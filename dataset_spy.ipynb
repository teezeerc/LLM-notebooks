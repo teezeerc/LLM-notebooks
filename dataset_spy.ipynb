{
 "cells": [
  {
   "cell_type": "code",
   "execution_count": null,
   "metadata": {
    "collapsed": true
   },
   "outputs": [],
   "source": [
    "!pip install transformers, datasets"
   ]
  },
  {
   "cell_type": "code",
   "execution_count": null,
   "outputs": [],
   "source": [
    "from datasets import Dataset, load_dataset\n",
    "from transformers import AutoTokenizer\n",
    "\n",
    "dataset = load_dataset(\"roneneldan/TinyStories\", split = \"train\")\n",
    "\n",
    "toknizer = AutoTokenizer.from_pretrained(\"unsloth/mistral-7b-bnb-4bit\")\n",
    "\n",
    "lenghts = list()\n",
    "for row in dataset[\"text\"]:\n",
    "    row_tokens = (len(toknizer.encode(row)))\n",
    "    lenghts.append(row_tokens)\n",
    "\n",
    "print(f\"average:{sum(lenghts) / len(lenghts)} length: {len(lenghts)}\")\n"
   ],
   "metadata": {
    "collapsed": false
   }
  }
 ],
 "metadata": {
  "kernelspec": {
   "display_name": "Python 3",
   "language": "python",
   "name": "python3"
  },
  "language_info": {
   "codemirror_mode": {
    "name": "ipython",
    "version": 2
   },
   "file_extension": ".py",
   "mimetype": "text/x-python",
   "name": "python",
   "nbconvert_exporter": "python",
   "pygments_lexer": "ipython2",
   "version": "2.7.6"
  }
 },
 "nbformat": 4,
 "nbformat_minor": 0
}
